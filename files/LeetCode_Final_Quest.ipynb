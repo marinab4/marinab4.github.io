{
  "nbformat": 4,
  "nbformat_minor": 0,
  "metadata": {
    "colab": {
      "provenance": [],
      "collapsed_sections": [
        "u-toG_haWV4t",
        "QRLsdGxxWJMj"
      ]
    },
    "kernelspec": {
      "name": "python3",
      "display_name": "Python 3"
    },
    "language_info": {
      "name": "python"
    }
  },
  "cells": [
    {
      "cell_type": "markdown",
      "source": [
        "#**Integer to Roman** (Medium)"
      ],
      "metadata": {
        "id": "LWrEQbQsVozM"
      }
    },
    {
      "cell_type": "markdown",
      "source": [
        "##**Instructions**"
      ],
      "metadata": {
        "id": "u-toG_haWV4t"
      }
    },
    {
      "cell_type": "markdown",
      "source": [
        "Given an integer, convert it to a Roman numeral.\n",
        "\n",
        "Seven different symbols represent Roman numerals with the following values:\n",
        "\n",
        "I: 1\n",
        "\n",
        "V: 5\n",
        "\n",
        "X: 10\n",
        "\n",
        "L: 50\n",
        "\n",
        "C: 100\n",
        "\n",
        "D: 500\n",
        "\n",
        "M: 1000\n",
        "\n",
        "Roman numerals are formed by appending the conversions of decimal place values from highest to lowest. Converting a decimal place value into a Roman numeral has the following rules:\n",
        "\n",
        "If the value does not start with 4 or 9, select the symbol of the maximal value that can be subtracted from the input, append that symbol to the result, subtract its value, and convert the remainder to a Roman numeral.\n",
        "\n",
        "If the value starts with 4 or 9 use the subtractive form representing one symbol subtracted from the following symbol, for example, 4 is 1 (I) less than 5 (V): IV and 9 is 1 (I) less than 10 (X): IX.\n",
        "\n",
        "Only the following subtractive forms are used: 4 (IV), 9 (IX), 40 (XL), 90 (XC), 400 (CD) and 900 (CM).\n",
        "\n",
        "Only powers of 10 (I, X, C, M) can be appended consecutively at most 3 times to represent multiples of 10. You cannot append 5 (V), 50 (L), or 500 (D) multiple times. If you need to append a symbol 4 times use the subtractive form."
      ],
      "metadata": {
        "id": "z2l_NKSZWGwI"
      }
    },
    {
      "cell_type": "markdown",
      "source": [
        "##**Examples**"
      ],
      "metadata": {
        "id": "QRLsdGxxWJMj"
      }
    },
    {
      "cell_type": "markdown",
      "source": [
        "**Example 1:**\n",
        "\n",
        "Input: num = 3749\n",
        "\n",
        "Output: \"MMMDCCXLIX\"\n",
        "\n",
        "Explanation:\n",
        "\n",
        "3000 = MMM as 1000 (M) + 1000 (M) + 1000 (M)\n",
        " 700 = DCC as 500 (D) + 100 (C) + 100 (C)\n",
        "  40 = XL as 10 (X) less of 50 (L)\n",
        "   9 = IX as 1 (I) less of 10 (X)\n",
        "Note: 49 is not 1 (I) less of 50 (L) because the conversion is based on decimal places\n",
        "\n",
        "**Example 2:**\n",
        "\n",
        "Input: num = 58\n",
        "\n",
        "Output: \"LVIII\"\n",
        "\n",
        "Explanation:\n",
        "\n",
        "50 = L\n",
        " 8 = VIII\n",
        "\n",
        "**Example 3:**\n",
        "\n",
        "Input: num = 1994\n",
        "\n",
        "Output: \"MCMXCIV\"\n",
        "\n",
        "Explanation:\n",
        "\n",
        "1000 = M\n",
        " 900 = CM\n",
        "  90 = XC\n",
        "   4 = IV\n",
        "\n",
        "\n",
        "Constraints:\n",
        "\n",
        "1 <= num <= 3999"
      ],
      "metadata": {
        "id": "T5Y_Fdt3VbaE"
      }
    },
    {
      "cell_type": "markdown",
      "source": [
        "##**MY SOLUTION**"
      ],
      "metadata": {
        "id": "YshWuJBKrcOa"
      }
    },
    {
      "cell_type": "markdown",
      "source": [
        "To create this function I borrowed the strategy we used for integer to english of separating out the conversion by tens places (by using floor division to separate them out). Because Roman numerals include 5's places as well and have special requirements for both 9's and 4's, I had to include a lot of specific cases, but the overall structure of the code could be repeated across 10's places. I also subtracted pieces from the original number as I assigned them Roman numerals, so I could better keep track of what had already been converted. I also tried to keep nesting to a minumum for readibility and efficiency of code, so I set the different place values equal to zero when they didn't exist in an integer, therefore eliminating them although the return statement still technically included in the variable."
      ],
      "metadata": {
        "id": "eitBUnM1bxNb"
      }
    },
    {
      "cell_type": "code",
      "execution_count": 8,
      "metadata": {
        "id": "rVm8oc1Dzu9w"
      },
      "outputs": [],
      "source": [
        "def int_to_rom(num: int) -> str:\n",
        "    '''\n",
        "    Returns a string with the integer in roman numerals\n",
        "\n",
        "        Roman Numeral Translation Rules:\n",
        "        I: 1\n",
        "        V: 5\n",
        "        X: 10\n",
        "        L: 50\n",
        "        C: 100\n",
        "        D: 500\n",
        "        M: 1000\n",
        "\n",
        "        Appends conversions of decimal place value high to low\n",
        "\n",
        "    Args:\n",
        "        num (int): one posistive integer from 0 to 3999\n",
        "\n",
        "    Returns:\n",
        "        (str):  string with the integer in roman numerals\n",
        "\n",
        "    Examples:\n",
        "    >>> int_to_rom(3749)\n",
        "        \"MMMDCCXLIX\"\n",
        "\n",
        "    >>> integer_to_english(58)\n",
        "        \"LVIII\"\n",
        "\n",
        "    >>> integer_to_english(1994)\n",
        "        \"MCMXCIV\"\n",
        "\n",
        "    '''\n",
        "\n",
        "    #thousands place\n",
        "    thous_place = 'M' * (num//1000)\n",
        "    num -= (num//1000) * 1000\n",
        "\n",
        "    #hundreds place\n",
        "    hun = num//100\n",
        "\n",
        "    if hun == 9:\n",
        "        five_hun_place = ''\n",
        "        hun_place = 'CM'\n",
        "        num -= 900\n",
        "\n",
        "    elif num >= 500:\n",
        "        five_hun_place = 'D'\n",
        "        num -= 500\n",
        "        hun -= 5\n",
        "        hun_place = 'C' * (hun)\n",
        "        num -= hun * 100\n",
        "\n",
        "    elif hun == 4:\n",
        "        five_hun_place = ''\n",
        "        hun_place = 'CD'\n",
        "        num -= 400\n",
        "        hun = ''\n",
        "    else:\n",
        "        five_hun_place = ''\n",
        "        hun_place = 'C' * (hun)\n",
        "        num -= (hun) * 100\n",
        "\n",
        "    #tens place\n",
        "    ten = num//10\n",
        "\n",
        "    if ten == 9:\n",
        "        fifty_place = ''\n",
        "        ten_place = 'XC'\n",
        "        num -= 90\n",
        "\n",
        "    elif num >= 50:\n",
        "        fifty_place = 'L'\n",
        "        num -= 50\n",
        "        ten -= 5\n",
        "        ten_place = 'X' * (ten)\n",
        "        num -= ten * 10\n",
        "\n",
        "    elif ten == 4:\n",
        "        fifty_place = ''\n",
        "        ten_place = 'XL'\n",
        "        num -= 40\n",
        "        ten = ''\n",
        "\n",
        "    else:\n",
        "        fifty_place = ''\n",
        "        ten_place = 'X' * (ten)\n",
        "        num -= (num//10) * 10\n",
        "\n",
        "    #ones place\n",
        "    if num == 9:\n",
        "        five_place = ''\n",
        "        one_place = 'IX'\n",
        "        num -= 9\n",
        "\n",
        "    else:\n",
        "        five_place = 'V' * bool(num >= 5)\n",
        "        num -= 5 * bool(num >= 5)\n",
        "\n",
        "        if num == 4:\n",
        "            one_place = 'IV'\n",
        "            num -= 4\n",
        "        else:\n",
        "            one_place = 'I' * (num)\n",
        "            num -= num\n",
        "\n",
        "    #returns a digit for each place (non-existent places are ommited)\n",
        "    return f'{thous_place}{five_hun_place}{hun_place}{fifty_place}{ten_place}{five_place}{one_place}'\n"
      ]
    },
    {
      "cell_type": "markdown",
      "source": [
        "##**Testing My Solution**"
      ],
      "metadata": {
        "id": "LZlOj7VBWPqG"
      }
    },
    {
      "cell_type": "code",
      "source": [
        "#TEST CASES\n",
        "#int_to_rom()\n",
        "\n",
        "#4 in tens, 9 in ones\n",
        "assert int_to_rom(3749) ==  \"MMMDCCXLIX\"\n",
        "\n",
        "#no 4's or 9's, fewer only 2 places\n",
        "assert int_to_rom(58) ==  \"LVIII\"\n",
        "\n",
        "#5 in all 3 possible places, no 4's or 9's, fewer only 3 places\n",
        "assert int_to_rom(555) ==  \"DLV\"\n",
        "\n",
        "#9's in hundreds and tens, 4 in ones\n",
        "assert int_to_rom(1994) ==  \"MCMXCIV\"\n",
        "\n",
        "#4's in hundreds place\n",
        "assert int_to_rom(1400) ==  \"MCD\"\n"
      ],
      "metadata": {
        "id": "y-rYupMWZfNR"
      },
      "execution_count": 7,
      "outputs": []
    },
    {
      "cell_type": "markdown",
      "source": [
        "#**Longest Valid Parentheses** (Hard)"
      ],
      "metadata": {
        "id": "O-o0Uc_crgrj"
      }
    },
    {
      "cell_type": "markdown",
      "source": [
        "Given a string containing just the characters '(' and ')', return the length of the longest valid (well-formed) parentheses\n",
        "substring.\n",
        "\n",
        "\n",
        "**Constraints:**\n",
        "\n",
        "0 <= s.length <= 3 * 10^4\n",
        "\n",
        "s[i] is '(', or ')'."
      ],
      "metadata": {
        "id": "a0NdJASKu77h"
      }
    },
    {
      "cell_type": "markdown",
      "source": [
        "##**Examples**"
      ],
      "metadata": {
        "id": "DMLNkxQWX1sa"
      }
    },
    {
      "cell_type": "markdown",
      "source": [
        "**Example 1:**\n",
        "\n",
        "Input: s = \"(()\"\n",
        "Output: 2\n",
        "Explanation: The longest valid parentheses substring is \"()\".\n",
        "\n",
        "**Example 2:**\n",
        "\n",
        "Input: s = \")()())\"\n",
        "Output: 4\n",
        "Explanation: The longest valid parentheses substring is \"()()\".\n",
        "\n",
        "**Example 3:**\n",
        "\n",
        "Input: s = \"\"\n",
        "Output: 0\n",
        "\n"
      ],
      "metadata": {
        "id": "HIWQwCZvX1LP"
      }
    },
    {
      "cell_type": "markdown",
      "source": [
        "##**My Solution**"
      ],
      "metadata": {
        "id": "9bCtiNsEX4nA"
      }
    },
    {
      "cell_type": "markdown",
      "source": [
        "I took the function is_balanced() (which was created in class for Training 27 using stacks as part of our discussion of OOP) and translated it to use lists,  allowing me to use slicing. I'd also originally thought to use the notation \"if ___ in list\" to make is_balanced() more useful for my own function longest_paren(). That notation  doesn't apply to stacks, so I was motivated to change the data type. Regardless, being able to call the existing function is_balanced was useful for checking validity of substrings longest_paren, which was already complex because of a pair of nested for loops."
      ],
      "metadata": {
        "id": "btzYCg3odp_m"
      }
    },
    {
      "cell_type": "code",
      "source": [
        "def is_balanced(s: str) -> bool:\n",
        "    \"\"\"\n",
        "    Checks if parentheses are balanced. Returns True if balanced, False otherwise.\n",
        "\n",
        "    Args:\n",
        "        s (str):     A single string parameter that consists of only the charcaters '(' and ')'\n",
        "\n",
        "    Returns:\n",
        "            (bool):     Returns True if balanced, False otherwise.\n",
        "\n",
        "    Examples:\n",
        "        >>> is_balanced(\"()\")\n",
        "            True\n",
        "        >>> is_balanced(\"()) )\")\n",
        "            False\n",
        "    \"\"\"\n",
        "\n",
        "    #make the string into a list to hold unmatched characters\n",
        "    s_list = []\n",
        "\n",
        "    #iterate through the characters, checking for open or closed parentheses and parentheses pairs\n",
        "    for char in s:\n",
        "        if char == '(':\n",
        "            s_list.append(char)\n",
        "\n",
        "        #if the closing bracket matches with an open one in the list, removes the open one so neither is on the list\n",
        "        elif (char == ')') and (len(s_list) != 0):\n",
        "            if (s_list[-1] == '('):\n",
        "                s_list.pop()\n",
        "\n",
        "        else:\n",
        "            s_list.append(char)\n",
        "\n",
        "    #if the list is empty all pairs have been cleared. If not something is unmatched or in the wrong order\n",
        "    if len(s_list) == 0:\n",
        "        return True\n",
        "    else:\n",
        "        return False\n"
      ],
      "metadata": {
        "id": "MIS74u5BvRbb"
      },
      "execution_count": null,
      "outputs": []
    },
    {
      "cell_type": "code",
      "source": [
        "def longest_paren(s: str) -> int:\n",
        "    \"\"\"\n",
        "    Given a string containing just the characters '(' and ')', returns the length of the longest valid (well-formed) parentheses substring\n",
        "    Args:\n",
        "        s (str):     A single string parameter that consists of only the charcaters '(' and ')'\n",
        "\n",
        "    Returns:\n",
        "            (int):     length of the longest valid (well-formed) parentheses substring (0 to 3*10^4)\n",
        "\n",
        "    Examples:\n",
        "        >>> longest_paren(\"()\")\n",
        "            2\n",
        "        >>> longest_paren(\"()) )\")\n",
        "            0\n",
        "    \"\"\"\n",
        "\n",
        "    #empty string to hold the longest balanced substring\n",
        "    balanced_sub_str = ''\n",
        "\n",
        "    #start is the index of the substring's starting character (iterates through for each potential substring)\n",
        "    for start in range(len(s)):\n",
        "\n",
        "        #i (index of the last character included in the substring) increases to create and test larger substrings for balance\n",
        "        for i in range(len(s)):\n",
        "\n",
        "            substring = s[start: i + 1]\n",
        "\n",
        "            #testing for balanced substring and length (we want the largest length possible so values less than the current most aren't considered)\n",
        "            if is_balanced(substring) and (len(substring) > len(balanced_sub_str)):\n",
        "                balanced_sub_str = substring\n",
        "\n",
        "    return len(balanced_sub_str)\n"
      ],
      "metadata": {
        "id": "TAefu7QGQX6p"
      },
      "execution_count": null,
      "outputs": []
    },
    {
      "cell_type": "markdown",
      "source": [
        "##**Testing My Solution**"
      ],
      "metadata": {
        "id": "0OKIBY7xX9iH"
      }
    },
    {
      "cell_type": "code",
      "source": [
        "#TEST CASES\n",
        "#is_balanced()\n",
        "\n",
        "#balanced, one set\n",
        "assert is_balanced(\"()\") == True\n",
        "\n",
        "#balanced, two sets\n",
        "assert is_balanced('(())') == True\n",
        "\n",
        "#not balanced\n",
        "assert is_balanced(\"((())\") == False\n"
      ],
      "metadata": {
        "id": "76vFwAOLwGGa"
      },
      "execution_count": null,
      "outputs": []
    },
    {
      "cell_type": "code",
      "source": [
        "#TEST CASES\n",
        "#longest_paren()\n",
        "\n",
        "#one set\n",
        "assert longest_paren(\"(()\") == 2\n",
        "\n",
        "#symmetrical\n",
        "assert longest_paren('(())') == 4\n",
        "\n",
        "#unbalanced\n",
        "assert longest_paren(\")()())\") == 4\n",
        "\n",
        "#no balanced substring\n",
        "assert longest_paren(\")((\") == 0\n",
        "\n",
        "#no string\n",
        "assert longest_paren(\"\") == 0\n"
      ],
      "metadata": {
        "id": "feGTq9tkwPIt"
      },
      "execution_count": null,
      "outputs": []
    }
  ]
}
